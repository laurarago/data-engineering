{
 "metadata": {
  "language_info": {
   "codemirror_mode": {
    "name": "ipython",
    "version": 3
   },
   "file_extension": ".py",
   "mimetype": "text/x-python",
   "name": "python",
   "nbconvert_exporter": "python",
   "pygments_lexer": "ipython3",
   "version": "3.8.3-final"
  },
  "orig_nbformat": 2,
  "kernelspec": {
   "name": "Python 3.8.3 64-bit ('base': conda)",
   "display_name": "Python 3.8.3 64-bit ('base': conda)",
   "metadata": {
    "interpreter": {
     "hash": "0d4fd2bd1faf0472468780e9326b90d88c4670b491e4538f8b5ed3c174766762"
    }
   }
  }
 },
 "nbformat": 4,
 "nbformat_minor": 2,
 "cells": [
  {
   "source": [
    "# Experiment"
   ],
   "cell_type": "markdown",
   "metadata": {}
  },
  {
   "cell_type": "code",
   "execution_count": 8,
   "metadata": {},
   "outputs": [],
   "source": [
    "#Import pandas and numpy\n",
    "import pandas as pd\n",
    "import numpy as np\n",
    "\n"
   ]
  },
  {
   "cell_type": "code",
   "execution_count": 9,
   "metadata": {},
   "outputs": [
    {
     "output_type": "execute_result",
     "data": {
      "text/plain": [
       "sex    female  male  total    %female      %male     %total\n",
       "alive                                                      \n",
       "no         81   468    549  25.796178  81.109185  61.616162\n",
       "yes       233   109    342  74.203822  18.890815  38.383838"
      ],
      "text/html": "<div>\n<style scoped>\n    .dataframe tbody tr th:only-of-type {\n        vertical-align: middle;\n    }\n\n    .dataframe tbody tr th {\n        vertical-align: top;\n    }\n\n    .dataframe thead th {\n        text-align: right;\n    }\n</style>\n<table border=\"1\" class=\"dataframe\">\n  <thead>\n    <tr style=\"text-align: right;\">\n      <th>sex</th>\n      <th>female</th>\n      <th>male</th>\n      <th>total</th>\n      <th>%female</th>\n      <th>%male</th>\n      <th>%total</th>\n    </tr>\n    <tr>\n      <th>alive</th>\n      <th></th>\n      <th></th>\n      <th></th>\n      <th></th>\n      <th></th>\n      <th></th>\n    </tr>\n  </thead>\n  <tbody>\n    <tr>\n      <th>no</th>\n      <td>81</td>\n      <td>468</td>\n      <td>549</td>\n      <td>25.796178</td>\n      <td>81.109185</td>\n      <td>61.616162</td>\n    </tr>\n    <tr>\n      <th>yes</th>\n      <td>233</td>\n      <td>109</td>\n      <td>342</td>\n      <td>74.203822</td>\n      <td>18.890815</td>\n      <td>38.383838</td>\n    </tr>\n  </tbody>\n</table>\n</div>"
     },
     "metadata": {},
     "execution_count": 9
    }
   ],
   "source": [
    "#Read titanic and save it as a DataFrame called df\n",
    "df = pd.read_csv('titanic.csv')\n",
    "\n",
    "#Create a pivot table from the DataFrame in order to calculate rates\n",
    "PivotBySex = df.pivot_table(values='survived', index=['alive'],\n",
    "                    columns=['sex'], aggfunc='count')\n",
    "#Create a total column\n",
    "PivotBySex['total'] =  PivotBySex['female'] + PivotBySex['male']\n",
    "\n",
    "#Calculate death rates for each variable (female, male, total)\n",
    "PivotBySex['%female'] = PivotBySex['female']/PivotBySex['female'].sum()*100\n",
    "PivotBySex['%male'] = PivotBySex['male']/PivotBySex['male'].sum()*100\n",
    "PivotBySex['%total'] = PivotBySex['total']/PivotBySex['total'].sum()*100\n",
    "\n",
    "#Print the new DataFrame with operations\n",
    "PivotBySex.head()\n"
   ]
  },
  {
   "cell_type": "code",
   "execution_count": null,
   "metadata": {},
   "outputs": [],
   "source": [
    "#Analysis by class"
   ]
  },
  {
   "cell_type": "code",
   "execution_count": 10,
   "metadata": {},
   "outputs": [
    {
     "output_type": "execute_result",
     "data": {
      "text/plain": [
       "class  First  Second  Third     %First    %Second     %Third\n",
       "alive                                                       \n",
       "no        80      97    372  37.037037  52.717391  75.763747\n",
       "yes      136      87    119  62.962963  47.282609  24.236253"
      ],
      "text/html": "<div>\n<style scoped>\n    .dataframe tbody tr th:only-of-type {\n        vertical-align: middle;\n    }\n\n    .dataframe tbody tr th {\n        vertical-align: top;\n    }\n\n    .dataframe thead th {\n        text-align: right;\n    }\n</style>\n<table border=\"1\" class=\"dataframe\">\n  <thead>\n    <tr style=\"text-align: right;\">\n      <th>class</th>\n      <th>First</th>\n      <th>Second</th>\n      <th>Third</th>\n      <th>%First</th>\n      <th>%Second</th>\n      <th>%Third</th>\n    </tr>\n    <tr>\n      <th>alive</th>\n      <th></th>\n      <th></th>\n      <th></th>\n      <th></th>\n      <th></th>\n      <th></th>\n    </tr>\n  </thead>\n  <tbody>\n    <tr>\n      <th>no</th>\n      <td>80</td>\n      <td>97</td>\n      <td>372</td>\n      <td>37.037037</td>\n      <td>52.717391</td>\n      <td>75.763747</td>\n    </tr>\n    <tr>\n      <th>yes</th>\n      <td>136</td>\n      <td>87</td>\n      <td>119</td>\n      <td>62.962963</td>\n      <td>47.282609</td>\n      <td>24.236253</td>\n    </tr>\n  </tbody>\n</table>\n</div>"
     },
     "metadata": {},
     "execution_count": 10
    }
   ],
   "source": [
    "#Read titanic and save it as a DataFrame called df\n",
    "df = pd.read_csv('titanic.csv')\n",
    "\n",
    "#Create a pivot table from the DataFrame in order to calculate rates\n",
    "PivotByClass = df.pivot_table(values='survived', index=['alive'],\n",
    "                    columns=['class'], aggfunc='count')\n",
    "\n",
    "#Calculate death rates for each variable (First, Second, Third)\n",
    "PivotByClass['%First'] =  PivotByClass['First']/PivotByClass['First'].sum()*100\n",
    "PivotByClass['%Second'] =  PivotByClass['Second']/PivotByClass['Second'].sum()*100\n",
    "PivotByClass['%Third'] =  PivotByClass['Third']/PivotByClass['Third'].sum()*100\n",
    "\n",
    "#Print the new DataFrame with operations\n",
    "PivotByClass.head()"
   ]
  },
  {
   "cell_type": "code",
   "execution_count": 2,
   "metadata": {},
   "outputs": [],
   "source": [
    "### Analysis by age"
   ]
  },
  {
   "cell_type": "code",
   "execution_count": 11,
   "metadata": {},
   "outputs": [
    {
     "output_type": "execute_result",
     "data": {
      "text/plain": [
       "alive       no  yes        %no       %yes\n",
       "Age_Range                                \n",
       "0          125   52  22.768670  15.204678\n",
       "19 to 29   159   86  28.961749  25.146199\n",
       "30 to 39    94   73  17.122040  21.345029\n",
       "40 to 49    55   34  10.018215   9.941520\n",
       "50 to 59    28   20   5.100182   5.847953\n",
       "60 to 69    13    6   2.367942   1.754386\n",
       "Over 70      6    1   1.092896   0.292398\n",
       "Under 18    69   70  12.568306  20.467836"
      ],
      "text/html": "<div>\n<style scoped>\n    .dataframe tbody tr th:only-of-type {\n        vertical-align: middle;\n    }\n\n    .dataframe tbody tr th {\n        vertical-align: top;\n    }\n\n    .dataframe thead th {\n        text-align: right;\n    }\n</style>\n<table border=\"1\" class=\"dataframe\">\n  <thead>\n    <tr style=\"text-align: right;\">\n      <th>alive</th>\n      <th>no</th>\n      <th>yes</th>\n      <th>%no</th>\n      <th>%yes</th>\n    </tr>\n    <tr>\n      <th>Age_Range</th>\n      <th></th>\n      <th></th>\n      <th></th>\n      <th></th>\n    </tr>\n  </thead>\n  <tbody>\n    <tr>\n      <th>0</th>\n      <td>125</td>\n      <td>52</td>\n      <td>22.768670</td>\n      <td>15.204678</td>\n    </tr>\n    <tr>\n      <th>19 to 29</th>\n      <td>159</td>\n      <td>86</td>\n      <td>28.961749</td>\n      <td>25.146199</td>\n    </tr>\n    <tr>\n      <th>30 to 39</th>\n      <td>94</td>\n      <td>73</td>\n      <td>17.122040</td>\n      <td>21.345029</td>\n    </tr>\n    <tr>\n      <th>40 to 49</th>\n      <td>55</td>\n      <td>34</td>\n      <td>10.018215</td>\n      <td>9.941520</td>\n    </tr>\n    <tr>\n      <th>50 to 59</th>\n      <td>28</td>\n      <td>20</td>\n      <td>5.100182</td>\n      <td>5.847953</td>\n    </tr>\n    <tr>\n      <th>60 to 69</th>\n      <td>13</td>\n      <td>6</td>\n      <td>2.367942</td>\n      <td>1.754386</td>\n    </tr>\n    <tr>\n      <th>Over 70</th>\n      <td>6</td>\n      <td>1</td>\n      <td>1.092896</td>\n      <td>0.292398</td>\n    </tr>\n    <tr>\n      <th>Under 18</th>\n      <td>69</td>\n      <td>70</td>\n      <td>12.568306</td>\n      <td>20.467836</td>\n    </tr>\n  </tbody>\n</table>\n</div>"
     },
     "metadata": {},
     "execution_count": 11
    }
   ],
   "source": [
    "#Read titanic and save it as a DataFrame called df\n",
    "df = pd.read_csv('titanic.csv')\n",
    "\n",
    "#Create age ranges based on age column data\n",
    "conditions = [\n",
    "    (df['age'] <= 18),\n",
    "    (df['age'] > 18) & (df['age'] <= 29),\n",
    "    (df['age'] > 29) & (df['age'] <= 39),\n",
    "    (df['age'] > 39) & (df['age'] <= 49),\n",
    "    (df['age'] > 49) & (df['age'] <= 59),\n",
    "    (df['age'] > 59) & (df['age'] <= 69),\n",
    "    (df['age'] > 69)\n",
    "    ]\n",
    "\n",
    "#Name this age ranges\n",
    "values = ['Under 18', '19 to 29', '30 to 39', '40 to 49', '50 to 59', '60 to 69', 'Over 70']\n",
    "\n",
    "#Add a new column named Age_Range to the DataFrame based on the ranges and names specified before \n",
    "df['Age_Range'] = np.select(conditions, values)\n",
    "\n",
    "#Create a pivot table from the DataFrame\n",
    "PivotByAge = df.pivot_table(values='survived', index=['Age_Range'],\n",
    "                    columns=['alive'], aggfunc='count')\n",
    "\n",
    "#Caluclate death rates for each age range\n",
    "PivotByAge['%no'] =  PivotByAge['no']/PivotByAge['no'].sum()*100\n",
    "PivotByAge['%yes'] = PivotByAge['yes']/PivotByAge['yes'].sum()*100\n",
    "\n",
    "#Print final DataFrame\n",
    "PivotByAge.head(8)                  \n"
   ]
  }
 ]
}